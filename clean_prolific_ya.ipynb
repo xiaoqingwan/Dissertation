{
 "cells": [
  {
   "cell_type": "code",
   "execution_count": 1,
   "metadata": {},
   "outputs": [],
   "source": [
    "import os\n",
    "from os import path\n",
    "from pathlib import Path\n",
    "import numpy as np\n",
    "import pandas as pd"
   ]
  },
  {
   "cell_type": "code",
   "execution_count": 2,
   "metadata": {},
   "outputs": [
    {
     "name": "stdout",
     "output_type": "stream",
     "text": [
      "Last modified: 211213\n"
     ]
    }
   ],
   "source": [
    "from datetime import datetime\n",
    "date = datetime.today().strftime('%y%m%d')\n",
    "print ('Last modified: ' + date)"
   ]
  },
  {
   "cell_type": "code",
   "execution_count": 3,
   "metadata": {},
   "outputs": [],
   "source": [
    "df = pd.read_csv('Technology Use (YA)_December 13, 2021_08.40.csv', encoding = \"ISO-8859-1\")\n",
    "df = df.drop(df.index[[0,1]]) #drop top rows"
   ]
  },
  {
   "cell_type": "markdown",
   "metadata": {},
   "source": [
    "# Fix erroneous response"
   ]
  },
  {
   "cell_type": "code",
   "execution_count": 4,
   "metadata": {},
   "outputs": [],
   "source": [
    "df.loc[df['id'].isin( ['5cf3f7364bcc6400019d71fa']), 'age'] = 64"
   ]
  },
  {
   "cell_type": "markdown",
   "metadata": {},
   "source": [
    "# To numeric"
   ]
  },
  {
   "cell_type": "code",
   "execution_count": 5,
   "metadata": {},
   "outputs": [],
   "source": [
    "cols = df.columns.drop('ResponseId','id')\n",
    "df[cols] = df[cols].apply(pd.to_numeric, errors='ignore')"
   ]
  },
  {
   "cell_type": "markdown",
   "metadata": {},
   "source": [
    "# Screen for catch trials!!!"
   ]
  },
  {
   "cell_type": "code",
   "execution_count": 6,
   "metadata": {},
   "outputs": [],
   "source": [
    "df = df.drop(df[df.wifi_print_3 != 1].index)"
   ]
  },
  {
   "cell_type": "markdown",
   "metadata": {},
   "source": [
    "# Computer proficiency"
   ]
  },
  {
   "cell_type": "code",
   "execution_count": 7,
   "metadata": {},
   "outputs": [],
   "source": [
    "names = df.columns[pd.Series(df.columns).str.startswith('comp_')]\n",
    "df['cpq'] = df[names].sum(axis=1)"
   ]
  },
  {
   "cell_type": "markdown",
   "metadata": {},
   "source": [
    "# Mobile proficiency"
   ]
  },
  {
   "cell_type": "code",
   "execution_count": 8,
   "metadata": {},
   "outputs": [],
   "source": [
    "names = df.columns[pd.Series(df.columns).str.startswith('mobile_')]\n",
    "df['mdpq'] = df[names].sum(axis=1)"
   ]
  },
  {
   "cell_type": "markdown",
   "metadata": {},
   "source": [
    "# Wifi proficiency"
   ]
  },
  {
   "cell_type": "code",
   "execution_count": 9,
   "metadata": {},
   "outputs": [],
   "source": [
    "names = df.columns[pd.Series(df.columns).str.startswith('wifi_')]\n",
    "df['wnpq'] = df[names].sum(axis=1) - 1\n",
    "# minus one is for the catch trial\n"
   ]
  },
  {
   "cell_type": "markdown",
   "metadata": {},
   "source": [
    "# All proficiency"
   ]
  },
  {
   "cell_type": "code",
   "execution_count": 10,
   "metadata": {},
   "outputs": [],
   "source": [
    "df['all_proficiency'] = df['cpq'] + df['mdpq'] + df['wnpq']"
   ]
  },
  {
   "cell_type": "markdown",
   "metadata": {},
   "source": [
    "# Hardware"
   ]
  },
  {
   "cell_type": "code",
   "execution_count": 11,
   "metadata": {},
   "outputs": [],
   "source": [
    "names = df.columns[pd.Series(df.columns).str.startswith('hardware')]\n",
    "df['hardware'] = df[names].sum(axis=1)"
   ]
  },
  {
   "cell_type": "markdown",
   "metadata": {},
   "source": [
    "# Software"
   ]
  },
  {
   "cell_type": "code",
   "execution_count": 12,
   "metadata": {},
   "outputs": [
    {
     "data": {
      "text/plain": [
       "2     24\n",
       "3     23\n",
       "4     32\n",
       "6     25\n",
       "7     26\n",
       "8     33\n",
       "9     24\n",
       "10    28\n",
       "11    25\n",
       "12    22\n",
       "13    28\n",
       "14    21\n",
       "15    29\n",
       "16    26\n",
       "17    33\n",
       "18    27\n",
       "19    25\n",
       "20    27\n",
       "21    21\n",
       "22    31\n",
       "23    28\n",
       "24    28\n",
       "25    21\n",
       "27    19\n",
       "28    26\n",
       "29    31\n",
       "30    32\n",
       "31    28\n",
       "32    21\n",
       "34    31\n",
       "Name: software, dtype: int64"
      ]
     },
     "execution_count": 12,
     "metadata": {},
     "output_type": "execute_result"
    }
   ],
   "source": [
    "names = df.columns[pd.Series(df.columns).str.startswith('software')]\n",
    "df['software'] = df[names].sum(axis=1)\n",
    "df['software']"
   ]
  },
  {
   "cell_type": "markdown",
   "metadata": {},
   "source": [
    "# Recall"
   ]
  },
  {
   "cell_type": "code",
   "execution_count": 13,
   "metadata": {},
   "outputs": [],
   "source": [
    "df = df.apply(lambda x: x.str.lower() if x.dtype=='object' else x) #convert ALL string columns to lowercase"
   ]
  },
  {
   "cell_type": "code",
   "execution_count": 14,
   "metadata": {},
   "outputs": [],
   "source": [
    "correct = ['book','child','gold','hotel','king','market','paper','river','skin','tree']\n",
    "imm_columns = ['imm_1', 'imm_2', 'imm_3', 'imm_4', 'imm_5', 'imm_6','imm_7', 'imm_8', 'imm_9', 'imm_10']\n",
    "delay_columns = ['delay_1', 'delay_2', 'delay_3', 'delay_4', 'delay_5', 'delay_6','delay_7', 'delay_8', 'delay_9', 'delay_10']"
   ]
  },
  {
   "cell_type": "markdown",
   "metadata": {},
   "source": [
    "## Immediate recall"
   ]
  },
  {
   "cell_type": "code",
   "execution_count": 15,
   "metadata": {},
   "outputs": [],
   "source": [
    "df_transposed = df[imm_columns].T #transpose the df\n",
    "\n",
    "a = list()\n",
    "#keep only unique recall answers\n",
    "for i in df_transposed.columns:\n",
    "    a.append(df_transposed[i].unique())\n",
    "    \n",
    "# recall scoring rules\n",
    "# for each cell, verify if a word is one of the ten; if yes, add 1 to the score\n",
    "b = [0]*len(a)\n",
    "x = 0\n",
    "for i in a:\n",
    "    for j in i:\n",
    "        if j in correct: \n",
    "            b[x] = b[x] + 1\n",
    "    x = x + 1\n",
    "    \n",
    "df['imm_sum'] = b"
   ]
  },
  {
   "cell_type": "markdown",
   "metadata": {},
   "source": [
    "## Delayed recall"
   ]
  },
  {
   "cell_type": "code",
   "execution_count": 16,
   "metadata": {},
   "outputs": [],
   "source": [
    "df_transposed = df[delay_columns].T #transpose the df\n",
    "\n",
    "a = list()\n",
    "#keep only unique recall answers\n",
    "for i in df_transposed.columns:\n",
    "    a.append(df_transposed[i].unique())\n",
    "    \n",
    "# recall scoring rules\n",
    "# for each cell, verify if a word is one of the ten; if yes, add 1 to the score\n",
    "b = [0]*len(a)\n",
    "x = 0\n",
    "for i in a:\n",
    "    for j in i:\n",
    "        if j in correct: \n",
    "            b[x] = b[x] + 1\n",
    "    x = x + 1\n",
    "    \n",
    "df['delay_sum'] = b"
   ]
  },
  {
   "cell_type": "code",
   "execution_count": 17,
   "metadata": {},
   "outputs": [
    {
     "data": {
      "text/plain": [
       "2     0\n",
       "3     7\n",
       "4     9\n",
       "6     0\n",
       "7     6\n",
       "8     9\n",
       "9     9\n",
       "10    0\n",
       "11    0\n",
       "12    4\n",
       "13    6\n",
       "14    9\n",
       "15    2\n",
       "16    8\n",
       "17    5\n",
       "18    0\n",
       "19    0\n",
       "20    8\n",
       "21    6\n",
       "22    7\n",
       "23    0\n",
       "24    6\n",
       "25    4\n",
       "27    6\n",
       "28    7\n",
       "29    7\n",
       "30    5\n",
       "31    3\n",
       "32    5\n",
       "34    0\n",
       "Name: delay_sum, dtype: int64"
      ]
     },
     "execution_count": 17,
     "metadata": {},
     "output_type": "execute_result"
    }
   ],
   "source": [
    "df['delay_sum']"
   ]
  },
  {
   "cell_type": "markdown",
   "metadata": {},
   "source": [
    "# Sense of control"
   ]
  },
  {
   "cell_type": "code",
   "execution_count": 18,
   "metadata": {},
   "outputs": [],
   "source": [
    "a = ['control_1', 'control_2', 'control_4', 'control_5', 'control_7', 'control_9', 'control_10','control_11']\n",
    "b = ['control_3', 'control_6', 'control_8','control_12']"
   ]
  },
  {
   "cell_type": "code",
   "execution_count": 19,
   "metadata": {},
   "outputs": [],
   "source": [
    "df['constraints'] = df[a].sum(axis=1)\n",
    "df['mastery'] = df[b].sum(axis=1)\n"
   ]
  },
  {
   "cell_type": "markdown",
   "metadata": {},
   "source": [
    "# Physical limitations"
   ]
  },
  {
   "cell_type": "code",
   "execution_count": 20,
   "metadata": {},
   "outputs": [
    {
     "data": {
      "text/plain": [
       "2      0.0\n",
       "3      0.0\n",
       "4      0.0\n",
       "6      2.0\n",
       "7      0.0\n",
       "8      1.0\n",
       "9      1.0\n",
       "10     0.0\n",
       "11     0.0\n",
       "12     0.0\n",
       "13     0.0\n",
       "14     0.0\n",
       "15     0.0\n",
       "16     0.0\n",
       "17     2.0\n",
       "18     0.0\n",
       "19     0.0\n",
       "20     3.0\n",
       "21    10.0\n",
       "22     0.0\n",
       "23     0.0\n",
       "24     0.0\n",
       "25     3.0\n",
       "27     0.0\n",
       "28     0.0\n",
       "29     0.0\n",
       "30     0.0\n",
       "31     9.0\n",
       "32     0.0\n",
       "34     0.0\n",
       "Name: limitations, dtype: float64"
      ]
     },
     "execution_count": 20,
     "metadata": {},
     "output_type": "execute_result"
    }
   ],
   "source": [
    "names = df.columns[pd.Series(df.columns).str.startswith('limitation')]\n",
    "df['limitations'] = df[names].sum(axis=1)\n",
    "df['limitations']"
   ]
  },
  {
   "cell_type": "markdown",
   "metadata": {},
   "source": [
    "# Visual spatial abilities"
   ]
  },
  {
   "cell_type": "code",
   "execution_count": 21,
   "metadata": {},
   "outputs": [
    {
     "data": {
      "text/plain": [
       "2     2.0\n",
       "3     4.0\n",
       "4     3.0\n",
       "6     5.0\n",
       "7     3.0\n",
       "8     2.0\n",
       "9     4.0\n",
       "10    1.0\n",
       "11    3.0\n",
       "12    2.0\n",
       "13    3.0\n",
       "14    4.0\n",
       "15    3.0\n",
       "16    3.0\n",
       "17    2.0\n",
       "18    2.0\n",
       "19    5.0\n",
       "20    4.0\n",
       "21    3.0\n",
       "22    1.0\n",
       "23    1.0\n",
       "24    5.0\n",
       "25    1.0\n",
       "27    3.0\n",
       "28    5.0\n",
       "29    2.0\n",
       "30    1.0\n",
       "31    4.0\n",
       "32    5.0\n",
       "34    1.0\n",
       "Name: visual, dtype: float64"
      ]
     },
     "execution_count": 21,
     "metadata": {},
     "output_type": "execute_result"
    }
   ],
   "source": [
    "names = df.columns[pd.Series(df.columns).str.startswith('visual')]\n",
    "df['visual'] = df[names].sum(axis=1)\n",
    "df['visual']"
   ]
  },
  {
   "cell_type": "code",
   "execution_count": 22,
   "metadata": {},
   "outputs": [],
   "source": [
    "# df['visual_modified'] = df['visual'] - df['visual1']"
   ]
  },
  {
   "cell_type": "markdown",
   "metadata": {},
   "source": [
    "# Perceived usefulness"
   ]
  },
  {
   "cell_type": "code",
   "execution_count": 23,
   "metadata": {},
   "outputs": [],
   "source": [
    "names = df.columns[pd.Series(df.columns).str.startswith('useful')]\n",
    "df['useful'] = df[names].sum(axis=1)"
   ]
  },
  {
   "cell_type": "code",
   "execution_count": 24,
   "metadata": {},
   "outputs": [
    {
     "data": {
      "text/plain": [
       "2     12.0\n",
       "3      9.0\n",
       "4     15.0\n",
       "6     15.0\n",
       "7     15.0\n",
       "8     13.0\n",
       "9     13.0\n",
       "10    12.0\n",
       "11    13.0\n",
       "12    12.0\n",
       "13    15.0\n",
       "14    13.0\n",
       "15    15.0\n",
       "16    14.0\n",
       "17    13.0\n",
       "18    11.0\n",
       "19    10.0\n",
       "20    14.0\n",
       "21    15.0\n",
       "22    15.0\n",
       "23    15.0\n",
       "24    13.0\n",
       "25    15.0\n",
       "27    14.0\n",
       "28    12.0\n",
       "29    14.0\n",
       "30    15.0\n",
       "31    15.0\n",
       "32    13.0\n",
       "34    15.0\n",
       "Name: useful, dtype: float64"
      ]
     },
     "execution_count": 24,
     "metadata": {},
     "output_type": "execute_result"
    }
   ],
   "source": [
    "df['useful']"
   ]
  },
  {
   "cell_type": "markdown",
   "metadata": {},
   "source": [
    "# Subset"
   ]
  },
  {
   "cell_type": "code",
   "execution_count": 25,
   "metadata": {},
   "outputs": [],
   "source": [
    "df1 = df.rename(columns={\"Duration (in seconds)\": \"duration\"})\n",
    "# df1 = df1[df1['imm_trouble'] != 1]"
   ]
  },
  {
   "cell_type": "markdown",
   "metadata": {},
   "source": [
    "# Detect duplicates"
   ]
  },
  {
   "cell_type": "code",
   "execution_count": 26,
   "metadata": {},
   "outputs": [
    {
     "data": {
      "text/html": [
       "<div>\n",
       "<style scoped>\n",
       "    .dataframe tbody tr th:only-of-type {\n",
       "        vertical-align: middle;\n",
       "    }\n",
       "\n",
       "    .dataframe tbody tr th {\n",
       "        vertical-align: top;\n",
       "    }\n",
       "\n",
       "    .dataframe thead th {\n",
       "        text-align: right;\n",
       "    }\n",
       "</style>\n",
       "<table border=\"1\" class=\"dataframe\">\n",
       "  <thead>\n",
       "    <tr style=\"text-align: right;\">\n",
       "      <th></th>\n",
       "      <th>StartDate</th>\n",
       "      <th>EndDate</th>\n",
       "      <th>Status</th>\n",
       "      <th>IPAddress</th>\n",
       "      <th>Progress</th>\n",
       "      <th>duration</th>\n",
       "      <th>Finished</th>\n",
       "      <th>RecordedDate</th>\n",
       "      <th>ResponseId</th>\n",
       "      <th>RecipientLastName</th>\n",
       "      <th>...</th>\n",
       "      <th>all_proficiency</th>\n",
       "      <th>hardware</th>\n",
       "      <th>software</th>\n",
       "      <th>imm_sum</th>\n",
       "      <th>delay_sum</th>\n",
       "      <th>constraints</th>\n",
       "      <th>mastery</th>\n",
       "      <th>limitations</th>\n",
       "      <th>visual</th>\n",
       "      <th>useful</th>\n",
       "    </tr>\n",
       "  </thead>\n",
       "  <tbody>\n",
       "  </tbody>\n",
       "</table>\n",
       "<p>0 rows × 200 columns</p>\n",
       "</div>"
      ],
      "text/plain": [
       "Empty DataFrame\n",
       "Columns: [StartDate, EndDate, Status, IPAddress, Progress, duration, Finished, RecordedDate, ResponseId, RecipientLastName, RecipientFirstName, RecipientEmail, ExternalReference, LocationLatitude, LocationLongitude, DistributionChannel, UserLanguage, id, intro, browser_Browser, browser_Version, browser_Operating System, browser_Resolution, age, adopt_age, education, gender, hispanic, race, couple, sage, software_1, software_2, software_3, software_4, software_5, software_6, software_7, software_8, software_9, hardware_1, hardware_2, hardware_3, hardware_4, hardware_5, hardware_6, hardware_7, hardware_other, imm_intro, catch, audio_check, auto_advance_First Click, auto_advance_Last Click, auto_advance_Page Submit, auto_advance_Click Count, time1_First Click, time1_Last Click, time1_Page Submit, time1_Click Count, imm_1, imm_2, imm_3, imm_4, imm_5, imm_6, imm_7, imm_8, imm_9, imm_10, time2_First Click, time2_Last Click, time2_Page Submit, time2_Click Count, imm_trouble, time3_First Click, time3_Last Click, time3_Page Submit, time3_Click Count, volunteer, charity, time4_First Click, time4_Last Click, time4_Page Submit, time4_Click Count, vehicle, debts, inheritance_1, retirement, checking, time5_First Click, time5_Last Click, time5_Page Submit, time5_Click Count, control_1, control_2, control_3, control_4, control_5, control_6, control_7, ...]\n",
       "Index: []\n",
       "\n",
       "[0 rows x 200 columns]"
      ]
     },
     "execution_count": 26,
     "metadata": {},
     "output_type": "execute_result"
    }
   ],
   "source": [
    "df1[df1['id'].duplicated() == True]\n"
   ]
  },
  {
   "cell_type": "code",
   "execution_count": 27,
   "metadata": {},
   "outputs": [],
   "source": [
    "df1 = df1.drop_duplicates(subset=['id'], keep='first')"
   ]
  },
  {
   "cell_type": "code",
   "execution_count": 28,
   "metadata": {},
   "outputs": [],
   "source": [
    "subset = ['ResponseId', 'id','cpq','mdpq','wnpq','all_proficiency','hardware','software',\n",
    "          'imm_sum','delay_sum','constraints','mastery', 'useful',\n",
    "          'map','volunteer','charity','plan','dental','pay_prescription', 'pay_hospital','visual','limitations',\n",
    "          'checking','retirement','vehicle','inheritance_1','debts',\n",
    "          'age','sage','education','gender','hispanic','race','couple',\n",
    "          'shealth','hearing','vision','alcohol','effort','adopt_age','duration']\n",
    "\n",
    "df2 = df1[subset]"
   ]
  },
  {
   "cell_type": "markdown",
   "metadata": {},
   "source": [
    "# Save "
   ]
  },
  {
   "cell_type": "code",
   "execution_count": 29,
   "metadata": {},
   "outputs": [],
   "source": [
    "df2 = df2.dropna(subset=['age','map','plan']) #drop rows with missing data\n",
    "df2 = df2[df2['cpq'] != 0]\n",
    "df2.to_csv(('prolific_ya_'+ date + '.csv'),index = False)"
   ]
  },
  {
   "cell_type": "markdown",
   "metadata": {},
   "source": [
    "# Check data"
   ]
  },
  {
   "cell_type": "code",
   "execution_count": 30,
   "metadata": {},
   "outputs": [
    {
     "data": {
      "text/html": [
       "<div>\n",
       "<style scoped>\n",
       "    .dataframe tbody tr th:only-of-type {\n",
       "        vertical-align: middle;\n",
       "    }\n",
       "\n",
       "    .dataframe tbody tr th {\n",
       "        vertical-align: top;\n",
       "    }\n",
       "\n",
       "    .dataframe thead th {\n",
       "        text-align: right;\n",
       "    }\n",
       "</style>\n",
       "<table border=\"1\" class=\"dataframe\">\n",
       "  <thead>\n",
       "    <tr style=\"text-align: right;\">\n",
       "      <th></th>\n",
       "      <th>ResponseId</th>\n",
       "      <th>id</th>\n",
       "      <th>cpq</th>\n",
       "      <th>mdpq</th>\n",
       "      <th>wnpq</th>\n",
       "      <th>all_proficiency</th>\n",
       "      <th>hardware</th>\n",
       "      <th>software</th>\n",
       "      <th>imm_sum</th>\n",
       "      <th>delay_sum</th>\n",
       "      <th>...</th>\n",
       "      <th>hispanic</th>\n",
       "      <th>race</th>\n",
       "      <th>couple</th>\n",
       "      <th>shealth</th>\n",
       "      <th>hearing</th>\n",
       "      <th>vision</th>\n",
       "      <th>alcohol</th>\n",
       "      <th>effort</th>\n",
       "      <th>adopt_age</th>\n",
       "      <th>duration</th>\n",
       "    </tr>\n",
       "  </thead>\n",
       "  <tbody>\n",
       "    <tr>\n",
       "      <td>2</td>\n",
       "      <td>r_3fjdihpjdg9ecc9</td>\n",
       "      <td>60d1220ee97a3b16edd3c882</td>\n",
       "      <td>48.0</td>\n",
       "      <td>68.0</td>\n",
       "      <td>37.0</td>\n",
       "      <td>153.0</td>\n",
       "      <td>3</td>\n",
       "      <td>24</td>\n",
       "      <td>0</td>\n",
       "      <td>0</td>\n",
       "      <td>...</td>\n",
       "      <td>1</td>\n",
       "      <td>5</td>\n",
       "      <td>0</td>\n",
       "      <td>2.0</td>\n",
       "      <td>4.0</td>\n",
       "      <td>4.0</td>\n",
       "      <td>1.0</td>\n",
       "      <td>0.0</td>\n",
       "      <td>11</td>\n",
       "      <td>721</td>\n",
       "    </tr>\n",
       "    <tr>\n",
       "      <td>3</td>\n",
       "      <td>r_1jem0pbbflu9ghm</td>\n",
       "      <td>5ab56fdff69e940001d8da97</td>\n",
       "      <td>48.0</td>\n",
       "      <td>66.0</td>\n",
       "      <td>33.0</td>\n",
       "      <td>147.0</td>\n",
       "      <td>3</td>\n",
       "      <td>23</td>\n",
       "      <td>7</td>\n",
       "      <td>7</td>\n",
       "      <td>...</td>\n",
       "      <td>0</td>\n",
       "      <td>1</td>\n",
       "      <td>0</td>\n",
       "      <td>4.0</td>\n",
       "      <td>4.0</td>\n",
       "      <td>3.0</td>\n",
       "      <td>1.0</td>\n",
       "      <td>0.0</td>\n",
       "      <td>10</td>\n",
       "      <td>1378</td>\n",
       "    </tr>\n",
       "    <tr>\n",
       "      <td>4</td>\n",
       "      <td>r_1gscne5q79j1xwh</td>\n",
       "      <td>6146896c628ef8ccdb2abf0a</td>\n",
       "      <td>49.0</td>\n",
       "      <td>68.0</td>\n",
       "      <td>38.0</td>\n",
       "      <td>155.0</td>\n",
       "      <td>5</td>\n",
       "      <td>32</td>\n",
       "      <td>9</td>\n",
       "      <td>9</td>\n",
       "      <td>...</td>\n",
       "      <td>0</td>\n",
       "      <td>1</td>\n",
       "      <td>0</td>\n",
       "      <td>3.0</td>\n",
       "      <td>4.0</td>\n",
       "      <td>5.0</td>\n",
       "      <td>0.0</td>\n",
       "      <td>0.0</td>\n",
       "      <td>10</td>\n",
       "      <td>476</td>\n",
       "    </tr>\n",
       "    <tr>\n",
       "      <td>6</td>\n",
       "      <td>r_3pdzevya5xzglcv</td>\n",
       "      <td>61202b6be797314915cb1bd7</td>\n",
       "      <td>44.0</td>\n",
       "      <td>67.0</td>\n",
       "      <td>24.0</td>\n",
       "      <td>135.0</td>\n",
       "      <td>4</td>\n",
       "      <td>25</td>\n",
       "      <td>0</td>\n",
       "      <td>0</td>\n",
       "      <td>...</td>\n",
       "      <td>0</td>\n",
       "      <td>1</td>\n",
       "      <td>0</td>\n",
       "      <td>3.0</td>\n",
       "      <td>5.0</td>\n",
       "      <td>4.0</td>\n",
       "      <td>0.0</td>\n",
       "      <td>1.0</td>\n",
       "      <td>4</td>\n",
       "      <td>944</td>\n",
       "    </tr>\n",
       "    <tr>\n",
       "      <td>7</td>\n",
       "      <td>r_1jya6pjntcu95ej</td>\n",
       "      <td>61003dc52ef1560d130aa57b</td>\n",
       "      <td>42.0</td>\n",
       "      <td>66.0</td>\n",
       "      <td>34.0</td>\n",
       "      <td>142.0</td>\n",
       "      <td>6</td>\n",
       "      <td>26</td>\n",
       "      <td>6</td>\n",
       "      <td>6</td>\n",
       "      <td>...</td>\n",
       "      <td>0</td>\n",
       "      <td>1</td>\n",
       "      <td>0</td>\n",
       "      <td>3.0</td>\n",
       "      <td>5.0</td>\n",
       "      <td>4.0</td>\n",
       "      <td>1.0</td>\n",
       "      <td>0.0</td>\n",
       "      <td>8</td>\n",
       "      <td>1158</td>\n",
       "    </tr>\n",
       "  </tbody>\n",
       "</table>\n",
       "<p>5 rows × 41 columns</p>\n",
       "</div>"
      ],
      "text/plain": [
       "          ResponseId                        id   cpq  mdpq  wnpq  \\\n",
       "2  r_3fjdihpjdg9ecc9  60d1220ee97a3b16edd3c882  48.0  68.0  37.0   \n",
       "3  r_1jem0pbbflu9ghm  5ab56fdff69e940001d8da97  48.0  66.0  33.0   \n",
       "4  r_1gscne5q79j1xwh  6146896c628ef8ccdb2abf0a  49.0  68.0  38.0   \n",
       "6  r_3pdzevya5xzglcv  61202b6be797314915cb1bd7  44.0  67.0  24.0   \n",
       "7  r_1jya6pjntcu95ej  61003dc52ef1560d130aa57b  42.0  66.0  34.0   \n",
       "\n",
       "   all_proficiency  hardware  software  imm_sum  delay_sum  ...  hispanic  \\\n",
       "2            153.0         3        24        0          0  ...         1   \n",
       "3            147.0         3        23        7          7  ...         0   \n",
       "4            155.0         5        32        9          9  ...         0   \n",
       "6            135.0         4        25        0          0  ...         0   \n",
       "7            142.0         6        26        6          6  ...         0   \n",
       "\n",
       "   race  couple  shealth  hearing  vision  alcohol  effort  adopt_age  \\\n",
       "2     5       0      2.0      4.0     4.0      1.0     0.0         11   \n",
       "3     1       0      4.0      4.0     3.0      1.0     0.0         10   \n",
       "4     1       0      3.0      4.0     5.0      0.0     0.0         10   \n",
       "6     1       0      3.0      5.0     4.0      0.0     1.0          4   \n",
       "7     1       0      3.0      5.0     4.0      1.0     0.0          8   \n",
       "\n",
       "   duration  \n",
       "2       721  \n",
       "3      1378  \n",
       "4       476  \n",
       "6       944  \n",
       "7      1158  \n",
       "\n",
       "[5 rows x 41 columns]"
      ]
     },
     "execution_count": 30,
     "metadata": {},
     "output_type": "execute_result"
    }
   ],
   "source": [
    "df2.head()"
   ]
  },
  {
   "cell_type": "code",
   "execution_count": 31,
   "metadata": {},
   "outputs": [
    {
     "data": {
      "text/plain": [
       "<matplotlib.axes._subplots.AxesSubplot at 0x7fc25d869c90>"
      ]
     },
     "execution_count": 31,
     "metadata": {},
     "output_type": "execute_result"
    },
    {
     "data": {
      "image/png": "[encoded data removed]",
      "text/plain": [
       "<Figure size 432x288 with 1 Axes>"
      ]
     },
     "metadata": {
      "needs_background": "light"
     },
     "output_type": "display_data"
    }
   ],
   "source": [
    "df2.plot(x='software', y='visual', style='o')\n"
   ]
  },
  {
   "cell_type": "code",
   "execution_count": 32,
   "metadata": {},
   "outputs": [
    {
     "data": {
      "text/plain": [
       "<matplotlib.axes._subplots.AxesSubplot at 0x7fc25da12e50>"
      ]
     },
     "execution_count": 32,
     "metadata": {},
     "output_type": "execute_result"
    },
    {
     "data": {
      "image/png": "[encoded data removed]",
      "text/plain": [
       "<Figure size 432x288 with 1 Axes>"
      ]
     },
     "metadata": {
      "needs_background": "light"
     },
     "output_type": "display_data"
    }
   ],
   "source": [
    "df2.plot(x='software', y='imm_sum', style='o')\n",
    "\n"
   ]
  },
  {
   "cell_type": "code",
   "execution_count": 33,
   "metadata": {},
   "outputs": [
    {
     "data": {
      "text/plain": [
       "<matplotlib.axes._subplots.AxesSubplot at 0x7fc25db1e250>"
      ]
     },
     "execution_count": 33,
     "metadata": {},
     "output_type": "execute_result"
    },
    {
     "data": {
      "image/png": "[encoded data removed]",
      "text/plain": [
       "<Figure size 432x288 with 1 Axes>"
      ]
     },
     "metadata": {
      "needs_background": "light"
     },
     "output_type": "display_data"
    }
   ],
   "source": [
    "df2.plot(x='software', y='age', style='o')\n"
   ]
  },
  {
   "cell_type": "code",
   "execution_count": 34,
   "metadata": {},
   "outputs": [
    {
     "data": {
      "text/plain": [
       "<matplotlib.axes._subplots.AxesSubplot at 0x7fc25dbddf50>"
      ]
     },
     "execution_count": 34,
     "metadata": {},
     "output_type": "execute_result"
    },
    {
     "data": {
      "image/png": "[encoded data removed]",
      "text/plain": [
       "<Figure size 432x288 with 1 Axes>"
      ]
     },
     "metadata": {
      "needs_background": "light"
     },
     "output_type": "display_data"
    }
   ],
   "source": [
    "df2.plot(x='software', y='inheritance_1', style='o')\n",
    "\n"
   ]
  },
  {
   "cell_type": "code",
   "execution_count": 35,
   "metadata": {},
   "outputs": [
    {
     "data": {
      "text/plain": [
       "<matplotlib.axes._subplots.AxesSubplot at 0x7fc25dc5f5d0>"
      ]
     },
     "execution_count": 35,
     "metadata": {},
     "output_type": "execute_result"
    },
    {
     "data": {
      "image/png": "[encoded data removed]",
      "text/plain": [
       "<Figure size 432x288 with 1 Axes>"
      ]
     },
     "metadata": {
      "needs_background": "light"
     },
     "output_type": "display_data"
    }
   ],
   "source": [
    "df2.plot(x='software', y='adopt_age', style='o')\n",
    "\n"
   ]
  },
  {
   "cell_type": "code",
   "execution_count": 36,
   "metadata": {},
   "outputs": [
    {
     "data": {
      "text/plain": [
       "<matplotlib.axes._subplots.AxesSubplot at 0x7fc25dd34e50>"
      ]
     },
     "execution_count": 36,
     "metadata": {},
     "output_type": "execute_result"
    },
    {
     "data": {
      "image/png": "[encoded data removed]",
      "text/plain": [
       "<Figure size 432x288 with 1 Axes>"
      ]
     },
     "metadata": {
      "needs_background": "light"
     },
     "output_type": "display_data"
    }
   ],
   "source": [
    "df2.plot(x='software', y='useful', style='o')\n",
    "\n"
   ]
  },
  {
   "cell_type": "code",
   "execution_count": 37,
   "metadata": {},
   "outputs": [
    {
     "data": {
      "text/plain": [
       "<matplotlib.axes._subplots.AxesSubplot at 0x7fc25de18250>"
      ]
     },
     "execution_count": 37,
     "metadata": {},
     "output_type": "execute_result"
    },
    {
     "data": {
      "image/png": "[encoded data removed]",
      "text/plain": [
       "<Figure size 432x288 with 1 Axes>"
      ]
     },
     "metadata": {
      "needs_background": "light"
     },
     "output_type": "display_data"
    }
   ],
   "source": [
    "df2.plot(x='software', y='limitations', style='o')\n",
    "\n"
   ]
  },
  {
   "cell_type": "code",
   "execution_count": 38,
   "metadata": {},
   "outputs": [
    {
     "data": {
      "text/plain": [
       "<matplotlib.axes._subplots.AxesSubplot at 0x7fc25df0a810>"
      ]
     },
     "execution_count": 38,
     "metadata": {},
     "output_type": "execute_result"
    },
    {
     "data": {
      "image/png": "[encoded data removed]",
      "text/plain": [
       "<Figure size 432x288 with 1 Axes>"
      ]
     },
     "metadata": {
      "needs_background": "light"
     },
     "output_type": "display_data"
    }
   ],
   "source": [
    "df2.plot(x='software', y='mastery', style='o')"
   ]
  },
  {
   "cell_type": "code",
   "execution_count": 39,
   "metadata": {},
   "outputs": [
    {
     "data": {
      "text/plain": [
       "<matplotlib.axes._subplots.AxesSubplot at 0x7fc25e81a750>"
      ]
     },
     "execution_count": 39,
     "metadata": {},
     "output_type": "execute_result"
    },
    {
     "data": {
      "image/png": "[encoded data removed]",
      "text/plain": [
       "<Figure size 432x288 with 1 Axes>"
      ]
     },
     "metadata": {
      "needs_background": "light"
     },
     "output_type": "display_data"
    }
   ],
   "source": [
    "df2.plot(x='software', y='constraints', style='o')\n",
    "\n"
   ]
  },
  {
   "cell_type": "code",
   "execution_count": 40,
   "metadata": {},
   "outputs": [
    {
     "data": {
      "text/plain": [
       "<matplotlib.axes._subplots.AxesSubplot at 0x7fc25e89aa50>"
      ]
     },
     "execution_count": 40,
     "metadata": {},
     "output_type": "execute_result"
    },
    {
     "data": {
      "image/png": "[encoded data removed]",
      "text/plain": [
       "<Figure size 432x288 with 1 Axes>"
      ]
     },
     "metadata": {
      "needs_background": "light"
     },
     "output_type": "display_data"
    }
   ],
   "source": [
    "df2.plot(x='software', y='education', style='o')\n",
    "\n"
   ]
  },
  {
   "cell_type": "code",
   "execution_count": 41,
   "metadata": {},
   "outputs": [
    {
     "data": {
      "text/plain": [
       "<matplotlib.axes._subplots.AxesSubplot at 0x7fc25e969510>"
      ]
     },
     "execution_count": 41,
     "metadata": {},
     "output_type": "execute_result"
    },
    {
     "data": {
      "image/png": "[encoded data removed]",
      "text/plain": [
       "<Figure size 432x288 with 1 Axes>"
      ]
     },
     "metadata": {
      "needs_background": "light"
     },
     "output_type": "display_data"
    }
   ],
   "source": [
    "df2.plot(x='software', y='hardware', style='o')\n",
    "\n"
   ]
  },
  {
   "cell_type": "code",
   "execution_count": 42,
   "metadata": {},
   "outputs": [
    {
     "data": {
      "text/plain": [
       "<matplotlib.axes._subplots.AxesSubplot at 0x7fc25ea4fa90>"
      ]
     },
     "execution_count": 42,
     "metadata": {},
     "output_type": "execute_result"
    },
    {
     "data": {
      "image/png": "[encoded data removed]",
      "text/plain": [
       "<Figure size 432x288 with 1 Axes>"
      ]
     },
     "metadata": {
      "needs_background": "light"
     },
     "output_type": "display_data"
    }
   ],
   "source": [
    "df2['software'].hist()"
   ]
  },
  {
   "cell_type": "code",
   "execution_count": 43,
   "metadata": {},
   "outputs": [
    {
     "data": {
      "text/plain": [
       "<matplotlib.axes._subplots.AxesSubplot at 0x7fc25eb25650>"
      ]
     },
     "execution_count": 43,
     "metadata": {},
     "output_type": "execute_result"
    },
    {
     "data": {
      "image/png": "[encoded data removed]",
      "text/plain": [
       "<Figure size 432x288 with 1 Axes>"
      ]
     },
     "metadata": {
      "needs_background": "light"
     },
     "output_type": "display_data"
    }
   ],
   "source": [
    "df2['cpq'].hist()"
   ]
  },
  {
   "cell_type": "code",
   "execution_count": 44,
   "metadata": {},
   "outputs": [
    {
     "data": {
      "text/plain": [
       "<matplotlib.axes._subplots.AxesSubplot at 0x7fc25ebdefd0>"
      ]
     },
     "execution_count": 44,
     "metadata": {},
     "output_type": "execute_result"
    },
    {
     "data": {
      "image/png": "[encoded data removed]",
      "text/plain": [
       "<Figure size 432x288 with 1 Axes>"
      ]
     },
     "metadata": {
      "needs_background": "light"
     },
     "output_type": "display_data"
    }
   ],
   "source": [
    "df2['wnpq'].hist()"
   ]
  },
  {
   "cell_type": "code",
   "execution_count": 45,
   "metadata": {},
   "outputs": [
    {
     "data": {
      "text/plain": [
       "<matplotlib.axes._subplots.AxesSubplot at 0x7fc25ebdef50>"
      ]
     },
     "execution_count": 45,
     "metadata": {},
     "output_type": "execute_result"
    },
    {
     "data": {
      "image/png": "[encoded data removed]",
      "text/plain": [
       "<Figure size 432x288 with 1 Axes>"
      ]
     },
     "metadata": {
      "needs_background": "light"
     },
     "output_type": "display_data"
    }
   ],
   "source": [
    "df2['inheritance_1'].hist()"
   ]
  },
  {
   "cell_type": "code",
   "execution_count": 46,
   "metadata": {},
   "outputs": [
    {
     "data": {
      "text/plain": [
       "<matplotlib.axes._subplots.AxesSubplot at 0x7fc25dc42850>"
      ]
     },
     "execution_count": 46,
     "metadata": {},
     "output_type": "execute_result"
    },
    {
     "data": {
      "image/png": "[encoded data removed]",
      "text/plain": [
       "<Figure size 432x288 with 1 Axes>"
      ]
     },
     "metadata": {
      "needs_background": "light"
     },
     "output_type": "display_data"
    }
   ],
   "source": [
    "df2['mastery'].hist()"
   ]
  },
  {
   "cell_type": "code",
   "execution_count": 47,
   "metadata": {},
   "outputs": [
    {
     "data": {
      "text/plain": [
       "<matplotlib.axes._subplots.AxesSubplot at 0x7fc25ee95fd0>"
      ]
     },
     "execution_count": 47,
     "metadata": {},
     "output_type": "execute_result"
    },
    {
     "data": {
      "image/png": "[encoded data removed]",
      "text/plain": [
       "<Figure size 432x288 with 1 Axes>"
      ]
     },
     "metadata": {
      "needs_background": "light"
     },
     "output_type": "display_data"
    }
   ],
   "source": [
    "df2['useful'].hist()"
   ]
  }
 ],
 "metadata": {
  "kernelspec": {
   "display_name": "Python 3",
   "language": "python",
   "name": "python3"
  },
  "language_info": {
   "codemirror_mode": {
    "name": "ipython",
    "version": 3
   },
   "file_extension": ".py",
   "mimetype": "text/x-python",
   "name": "python",
   "nbconvert_exporter": "python",
   "pygments_lexer": "ipython3",
   "version": "3.7.4"
  }
 },
 "nbformat": 4,
 "nbformat_minor": 2
}
