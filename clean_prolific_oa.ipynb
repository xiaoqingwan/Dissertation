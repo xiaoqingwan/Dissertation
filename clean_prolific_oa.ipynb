{
 "cells": [
  {
   "cell_type": "code",
   "execution_count": 1,
   "metadata": {},
   "outputs": [],
   "source": [
    "import os\n",
    "from os import path\n",
    "from pathlib import Path\n",
    "import numpy as np\n",
    "import pandas as pd"
   ]
  },
  {
   "cell_type": "code",
   "execution_count": 2,
   "metadata": {},
   "outputs": [
    {
     "name": "stdout",
     "output_type": "stream",
     "text": [
      "Last modified: 220104\n"
     ]
    }
   ],
   "source": [
    "from datetime import datetime\n",
    "date = datetime.today().strftime('%y%m%d')\n",
    "print ('Last modified: ' + date)"
   ]
  },
  {
   "cell_type": "code",
   "execution_count": 3,
   "metadata": {},
   "outputs": [],
   "source": [
    "df = pd.read_csv('Technology Use (OA)_January 4, 2022_11.47.csv', encoding = \"ISO-8859-1\")\n",
    "df = df.drop(df.index[[0,1]]) #drop top rows"
   ]
  },
  {
   "cell_type": "markdown",
   "metadata": {},
   "source": [
    "# Fix erroneous response"
   ]
  },
  {
   "cell_type": "code",
   "execution_count": 4,
   "metadata": {},
   "outputs": [],
   "source": [
    "df.loc[df['id'].isin( ['5cf3f7364bcc6400019d71fa']), 'age'] = 64"
   ]
  },
  {
   "cell_type": "markdown",
   "metadata": {},
   "source": [
    "# To numeric"
   ]
  },
  {
   "cell_type": "code",
   "execution_count": 5,
   "metadata": {},
   "outputs": [],
   "source": [
    "cols = df.columns.drop('ResponseId','id')\n",
    "df[cols] = df[cols].apply(pd.to_numeric, errors='ignore')"
   ]
  },
  {
   "cell_type": "markdown",
   "metadata": {},
   "source": [
    "# Screen for catch trials!!! And drop a person who misunderstood the instructions"
   ]
  },
  {
   "cell_type": "code",
   "execution_count": 6,
   "metadata": {},
   "outputs": [],
   "source": [
    "df = df.drop(df[df.wifi_print_3 != 1].index)\n",
    "\n",
    "df = df.drop(df[df.id == '5a70abe2efd3a70001210578'].index)"
   ]
  },
  {
   "cell_type": "markdown",
   "metadata": {},
   "source": [
    "# Computer proficiency"
   ]
  },
  {
   "cell_type": "code",
   "execution_count": 7,
   "metadata": {},
   "outputs": [],
   "source": [
    "names = df.columns[pd.Series(df.columns).str.startswith('comp_')]\n",
    "df['cpq'] = df[names].sum(axis=1)"
   ]
  },
  {
   "cell_type": "markdown",
   "metadata": {},
   "source": [
    "# Mobile proficiency"
   ]
  },
  {
   "cell_type": "code",
   "execution_count": 8,
   "metadata": {},
   "outputs": [],
   "source": [
    "names = df.columns[pd.Series(df.columns).str.startswith('mobile_')]\n",
    "df['mdpq'] = df[names].sum(axis=1)"
   ]
  },
  {
   "cell_type": "markdown",
   "metadata": {},
   "source": [
    "# Wifi proficiency"
   ]
  },
  {
   "cell_type": "code",
   "execution_count": 9,
   "metadata": {},
   "outputs": [],
   "source": [
    "names = df.columns[pd.Series(df.columns).str.startswith('wifi_')]\n",
    "df['wnpq'] = df[names].sum(axis=1) - 1\n",
    "# minus one is for the catch trial\n"
   ]
  },
  {
   "cell_type": "markdown",
   "metadata": {},
   "source": [
    "# All proficiency"
   ]
  },
  {
   "cell_type": "code",
   "execution_count": 10,
   "metadata": {},
   "outputs": [],
   "source": [
    "df['all_proficiency'] = df['cpq'] + df['mdpq'] + df['wnpq']"
   ]
  },
  {
   "cell_type": "markdown",
   "metadata": {},
   "source": [
    "# Hardware"
   ]
  },
  {
   "cell_type": "code",
   "execution_count": 11,
   "metadata": {},
   "outputs": [],
   "source": [
    "names = df.columns[pd.Series(df.columns).str.startswith('hardware')]\n",
    "df['hardware'] = df[names].sum(axis=1)"
   ]
  },
  {
   "cell_type": "markdown",
   "metadata": {},
   "source": [
    "# Software"
   ]
  },
  {
   "cell_type": "code",
   "execution_count": 12,
   "metadata": {},
   "outputs": [
    {
     "data": {
      "text/plain": [
       "4      19.0\n",
       "6      30.0\n",
       "7      22.0\n",
       "8      25.0\n",
       "9      30.0\n",
       "       ... \n",
       "624    24.0\n",
       "625    27.0\n",
       "626    24.0\n",
       "627    33.0\n",
       "628    26.0\n",
       "Name: software, Length: 565, dtype: float64"
      ]
     },
     "execution_count": 12,
     "metadata": {},
     "output_type": "execute_result"
    }
   ],
   "source": [
    "names = df.columns[pd.Series(df.columns).str.startswith('software')]\n",
    "df['software'] = df[names].sum(axis=1)\n",
    "df['software']"
   ]
  },
  {
   "cell_type": "markdown",
   "metadata": {},
   "source": [
    "# Recall"
   ]
  },
  {
   "cell_type": "code",
   "execution_count": 13,
   "metadata": {},
   "outputs": [],
   "source": [
    "df = df.apply(lambda x: x.str.lower() if x.dtype=='object' else x) #convert ALL string columns to lowercase"
   ]
  },
  {
   "cell_type": "code",
   "execution_count": 14,
   "metadata": {},
   "outputs": [],
   "source": [
    "correct = ['book','child','gold','hotel','king','market','paper','river','skin','tree']\n",
    "imm_columns = ['imm_1', 'imm_2', 'imm_3', 'imm_4', 'imm_5', 'imm_6','imm_7', 'imm_8', 'imm_9', 'imm_10']\n",
    "delay_columns = ['delay_1', 'delay_2', 'delay_3', 'delay_4', 'delay_5', 'delay_6','delay_7', 'delay_8', 'delay_9', 'delay_10']"
   ]
  },
  {
   "cell_type": "markdown",
   "metadata": {},
   "source": [
    "## Immediate recall"
   ]
  },
  {
   "cell_type": "code",
   "execution_count": 15,
   "metadata": {},
   "outputs": [],
   "source": [
    "df_transposed = df[imm_columns].T #transpose the df\n",
    "\n",
    "a = list()\n",
    "#keep only unique recall answers\n",
    "for i in df_transposed.columns:\n",
    "    a.append(df_transposed[i].unique())\n",
    "    \n",
    "# recall scoring rules\n",
    "# for each cell, verify if a word is one of the ten; if yes, add 1 to the score\n",
    "b = [0]*len(a)\n",
    "x = 0\n",
    "for i in a:\n",
    "    for j in i:\n",
    "        if j in correct: \n",
    "            b[x] = b[x] + 1\n",
    "    x = x + 1\n",
    "    \n",
    "df['imm_sum'] = b"
   ]
  },
  {
   "cell_type": "markdown",
   "metadata": {},
   "source": [
    "## Delayed recall"
   ]
  },
  {
   "cell_type": "code",
   "execution_count": 16,
   "metadata": {},
   "outputs": [],
   "source": [
    "df_transposed = df[delay_columns].T #transpose the df\n",
    "\n",
    "a = list()\n",
    "#keep only unique recall answers\n",
    "for i in df_transposed.columns:\n",
    "    a.append(df_transposed[i].unique())\n",
    "    \n",
    "# recall scoring rules\n",
    "# for each cell, verify if a word is one of the ten; if yes, add 1 to the score\n",
    "b = [0]*len(a)\n",
    "x = 0\n",
    "for i in a:\n",
    "    for j in i:\n",
    "        if j in correct: \n",
    "            b[x] = b[x] + 1\n",
    "    x = x + 1\n",
    "    \n",
    "df['delay_sum'] = b"
   ]
  },
  {
   "cell_type": "code",
   "execution_count": 17,
   "metadata": {},
   "outputs": [
    {
     "data": {
      "text/plain": [
       "4      5\n",
       "6      7\n",
       "7      7\n",
       "8      7\n",
       "9      5\n",
       "      ..\n",
       "624    7\n",
       "625    5\n",
       "626    2\n",
       "627    3\n",
       "628    7\n",
       "Name: delay_sum, Length: 565, dtype: int64"
      ]
     },
     "execution_count": 17,
     "metadata": {},
     "output_type": "execute_result"
    }
   ],
   "source": [
    "df['delay_sum']"
   ]
  },
  {
   "cell_type": "markdown",
   "metadata": {},
   "source": [
    "# Sense of control"
   ]
  },
  {
   "cell_type": "code",
   "execution_count": 18,
   "metadata": {},
   "outputs": [],
   "source": [
    "a = ['control_1', 'control_2', 'control_4', 'control_5', 'control_7', 'control_9', 'control_10','control_11']\n",
    "b = ['control_3', 'control_6', 'control_8','control_12']"
   ]
  },
  {
   "cell_type": "code",
   "execution_count": 19,
   "metadata": {},
   "outputs": [],
   "source": [
    "df['constraints'] = df[a].sum(axis=1)\n",
    "df['mastery'] = df[b].sum(axis=1)\n"
   ]
  },
  {
   "cell_type": "markdown",
   "metadata": {},
   "source": [
    "# Physical limitations"
   ]
  },
  {
   "cell_type": "code",
   "execution_count": 20,
   "metadata": {},
   "outputs": [
    {
     "data": {
      "text/plain": [
       "4      2.0\n",
       "6      1.0\n",
       "7      4.0\n",
       "8      0.0\n",
       "9      2.0\n",
       "      ... \n",
       "624    0.0\n",
       "625    0.0\n",
       "626    0.0\n",
       "627    7.0\n",
       "628    0.0\n",
       "Name: limitations, Length: 565, dtype: float64"
      ]
     },
     "execution_count": 20,
     "metadata": {},
     "output_type": "execute_result"
    }
   ],
   "source": [
    "names = df.columns[pd.Series(df.columns).str.startswith('limitation')]\n",
    "df['limitations'] = df[names].sum(axis=1)\n",
    "df['limitations']"
   ]
  },
  {
   "cell_type": "markdown",
   "metadata": {},
   "source": [
    "# Visual spatial abilities"
   ]
  },
  {
   "cell_type": "code",
   "execution_count": 21,
   "metadata": {},
   "outputs": [
    {
     "data": {
      "text/plain": [
       "4      4.0\n",
       "6      3.0\n",
       "7      1.0\n",
       "8      2.0\n",
       "9      3.0\n",
       "      ... \n",
       "624    2.0\n",
       "625    4.0\n",
       "626    1.0\n",
       "627    3.0\n",
       "628    4.0\n",
       "Name: visual, Length: 565, dtype: float64"
      ]
     },
     "execution_count": 21,
     "metadata": {},
     "output_type": "execute_result"
    }
   ],
   "source": [
    "names = df.columns[pd.Series(df.columns).str.startswith('visual')]\n",
    "df['visual'] = df[names].sum(axis=1)\n",
    "df['visual']"
   ]
  },
  {
   "cell_type": "code",
   "execution_count": 22,
   "metadata": {},
   "outputs": [],
   "source": [
    "# df['visual_modified'] = df['visual'] - df['visual1']"
   ]
  },
  {
   "cell_type": "markdown",
   "metadata": {},
   "source": [
    "# Perceived usefulness"
   ]
  },
  {
   "cell_type": "code",
   "execution_count": 23,
   "metadata": {},
   "outputs": [],
   "source": [
    "names = df.columns[pd.Series(df.columns).str.startswith('useful')]\n",
    "df['useful'] = df[names].sum(axis=1)"
   ]
  },
  {
   "cell_type": "code",
   "execution_count": 24,
   "metadata": {},
   "outputs": [
    {
     "data": {
      "text/plain": [
       "4      12.0\n",
       "6      15.0\n",
       "7      12.0\n",
       "8      14.0\n",
       "9      15.0\n",
       "       ... \n",
       "624    15.0\n",
       "625    15.0\n",
       "626     3.0\n",
       "627    15.0\n",
       "628    15.0\n",
       "Name: useful, Length: 565, dtype: float64"
      ]
     },
     "execution_count": 24,
     "metadata": {},
     "output_type": "execute_result"
    }
   ],
   "source": [
    "df['useful']"
   ]
  },
  {
   "cell_type": "markdown",
   "metadata": {},
   "source": [
    "# Subset"
   ]
  },
  {
   "cell_type": "code",
   "execution_count": 25,
   "metadata": {},
   "outputs": [],
   "source": [
    "df1 = df.rename(columns={\"Duration (in seconds)\": \"duration\"})\n",
    "df1 = df1[df1['imm_trouble'] != 1]"
   ]
  },
  {
   "cell_type": "markdown",
   "metadata": {},
   "source": [
    "# Detect duplicates"
   ]
  },
  {
   "cell_type": "code",
   "execution_count": 26,
   "metadata": {},
   "outputs": [
    {
     "data": {
      "text/html": [
       "<div>\n",
       "<style scoped>\n",
       "    .dataframe tbody tr th:only-of-type {\n",
       "        vertical-align: middle;\n",
       "    }\n",
       "\n",
       "    .dataframe tbody tr th {\n",
       "        vertical-align: top;\n",
       "    }\n",
       "\n",
       "    .dataframe thead th {\n",
       "        text-align: right;\n",
       "    }\n",
       "</style>\n",
       "<table border=\"1\" class=\"dataframe\">\n",
       "  <thead>\n",
       "    <tr style=\"text-align: right;\">\n",
       "      <th></th>\n",
       "      <th>StartDate</th>\n",
       "      <th>EndDate</th>\n",
       "      <th>Status</th>\n",
       "      <th>IPAddress</th>\n",
       "      <th>Progress</th>\n",
       "      <th>duration</th>\n",
       "      <th>Finished</th>\n",
       "      <th>RecordedDate</th>\n",
       "      <th>ResponseId</th>\n",
       "      <th>RecipientLastName</th>\n",
       "      <th>...</th>\n",
       "      <th>all_proficiency</th>\n",
       "      <th>hardware</th>\n",
       "      <th>software</th>\n",
       "      <th>imm_sum</th>\n",
       "      <th>delay_sum</th>\n",
       "      <th>constraints</th>\n",
       "      <th>mastery</th>\n",
       "      <th>limitations</th>\n",
       "      <th>visual</th>\n",
       "      <th>useful</th>\n",
       "    </tr>\n",
       "  </thead>\n",
       "  <tbody>\n",
       "    <tr>\n",
       "      <td>191</td>\n",
       "      <td>2021-12-06 09:03:30</td>\n",
       "      <td>2021-12-06 09:14:16</td>\n",
       "      <td>0</td>\n",
       "      <td>174.102.118.192</td>\n",
       "      <td>98</td>\n",
       "      <td>645</td>\n",
       "      <td>0</td>\n",
       "      <td>2021-12-06 13:14:16</td>\n",
       "      <td>r_3hsy853b8a3yfvp</td>\n",
       "      <td>NaN</td>\n",
       "      <td>...</td>\n",
       "      <td>157.0</td>\n",
       "      <td>4.0</td>\n",
       "      <td>25.0</td>\n",
       "      <td>6</td>\n",
       "      <td>5</td>\n",
       "      <td>18.0</td>\n",
       "      <td>22.0</td>\n",
       "      <td>2.0</td>\n",
       "      <td>3.0</td>\n",
       "      <td>12.0</td>\n",
       "    </tr>\n",
       "  </tbody>\n",
       "</table>\n",
       "<p>1 rows × 199 columns</p>\n",
       "</div>"
      ],
      "text/plain": [
       "               StartDate              EndDate  Status        IPAddress  \\\n",
       "191  2021-12-06 09:03:30  2021-12-06 09:14:16       0  174.102.118.192   \n",
       "\n",
       "     Progress  duration  Finished         RecordedDate         ResponseId  \\\n",
       "191        98       645         0  2021-12-06 13:14:16  r_3hsy853b8a3yfvp   \n",
       "\n",
       "     RecipientLastName  ...  all_proficiency  hardware  software  imm_sum  \\\n",
       "191                NaN  ...            157.0       4.0      25.0        6   \n",
       "\n",
       "     delay_sum constraints mastery limitations  visual useful  \n",
       "191          5        18.0    22.0         2.0     3.0   12.0  \n",
       "\n",
       "[1 rows x 199 columns]"
      ]
     },
     "execution_count": 26,
     "metadata": {},
     "output_type": "execute_result"
    }
   ],
   "source": [
    "df1[df1['id'].duplicated() == True]\n"
   ]
  },
  {
   "cell_type": "code",
   "execution_count": 27,
   "metadata": {},
   "outputs": [],
   "source": [
    "df1 = df1.drop_duplicates(subset=['id'], keep='first')"
   ]
  },
  {
   "cell_type": "code",
   "execution_count": 28,
   "metadata": {},
   "outputs": [],
   "source": [
    "subset = ['ResponseId', 'id','cpq','mdpq','wnpq','all_proficiency','hardware','software',\n",
    "          'imm_sum','delay_sum','constraints','mastery', 'useful',\n",
    "          'map','volunteer','charity','plan','dental','pay_prescription', 'pay_hospital','visual','limitations',\n",
    "          'checking','retirement','vehicle','inheritance_1','debts',\n",
    "          'age','sage','education','gender','hispanic','race','couple',\n",
    "          'shealth','hearing','vision','alcohol','effort','adopt_age','duration']\n",
    "\n",
    "df2 = df1[subset]"
   ]
  },
  {
   "cell_type": "markdown",
   "metadata": {},
   "source": [
    "# Save "
   ]
  },
  {
   "cell_type": "code",
   "execution_count": 29,
   "metadata": {},
   "outputs": [],
   "source": [
    "df2 = df2.dropna(subset=['age','map','plan']) #drop rows with missing data\n",
    "df2 = df2[df2['age'] >= 60]\n",
    "df2 = df2[df2['cpq'] != 0]\n",
    "df2.to_csv(('prolific_oa_'+ date + '.csv'),index = False)"
   ]
  },
  {
   "cell_type": "markdown",
   "metadata": {},
   "source": [
    "# Check data"
   ]
  },
  {
   "cell_type": "code",
   "execution_count": 31,
   "metadata": {},
   "outputs": [
    {
     "data": {
      "text/html": [
       "<div>\n",
       "<style scoped>\n",
       "    .dataframe tbody tr th:only-of-type {\n",
       "        vertical-align: middle;\n",
       "    }\n",
       "\n",
       "    .dataframe tbody tr th {\n",
       "        vertical-align: top;\n",
       "    }\n",
       "\n",
       "    .dataframe thead th {\n",
       "        text-align: right;\n",
       "    }\n",
       "</style>\n",
       "<table border=\"1\" class=\"dataframe\">\n",
       "  <thead>\n",
       "    <tr style=\"text-align: right;\">\n",
       "      <th></th>\n",
       "      <th>ResponseId</th>\n",
       "      <th>id</th>\n",
       "      <th>cpq</th>\n",
       "      <th>mdpq</th>\n",
       "      <th>wnpq</th>\n",
       "      <th>all_proficiency</th>\n",
       "      <th>hardware</th>\n",
       "      <th>software</th>\n",
       "      <th>imm_sum</th>\n",
       "      <th>delay_sum</th>\n",
       "      <th>...</th>\n",
       "      <th>hispanic</th>\n",
       "      <th>race</th>\n",
       "      <th>couple</th>\n",
       "      <th>shealth</th>\n",
       "      <th>hearing</th>\n",
       "      <th>vision</th>\n",
       "      <th>alcohol</th>\n",
       "      <th>effort</th>\n",
       "      <th>adopt_age</th>\n",
       "      <th>duration</th>\n",
       "    </tr>\n",
       "  </thead>\n",
       "  <tbody>\n",
       "    <tr>\n",
       "      <td>4</td>\n",
       "      <td>r_1m6w3ebrevd0aq0</td>\n",
       "      <td>582c83a0bbb67e0001e49ec1</td>\n",
       "      <td>50.0</td>\n",
       "      <td>57.0</td>\n",
       "      <td>30.0</td>\n",
       "      <td>137.0</td>\n",
       "      <td>3.0</td>\n",
       "      <td>19.0</td>\n",
       "      <td>6</td>\n",
       "      <td>5</td>\n",
       "      <td>...</td>\n",
       "      <td>0.0</td>\n",
       "      <td>1.0</td>\n",
       "      <td>0.0</td>\n",
       "      <td>4.0</td>\n",
       "      <td>4.0</td>\n",
       "      <td>4.0</td>\n",
       "      <td>1.0</td>\n",
       "      <td>1.0</td>\n",
       "      <td>45.0</td>\n",
       "      <td>1537</td>\n",
       "    </tr>\n",
       "    <tr>\n",
       "      <td>6</td>\n",
       "      <td>r_v1j9fhzvmtlwld7</td>\n",
       "      <td>60f838095603e27ca51820a7</td>\n",
       "      <td>50.0</td>\n",
       "      <td>68.0</td>\n",
       "      <td>38.0</td>\n",
       "      <td>156.0</td>\n",
       "      <td>3.0</td>\n",
       "      <td>30.0</td>\n",
       "      <td>8</td>\n",
       "      <td>7</td>\n",
       "      <td>...</td>\n",
       "      <td>0.0</td>\n",
       "      <td>1.0</td>\n",
       "      <td>1.0</td>\n",
       "      <td>3.0</td>\n",
       "      <td>3.0</td>\n",
       "      <td>3.0</td>\n",
       "      <td>1.0</td>\n",
       "      <td>1.0</td>\n",
       "      <td>40.0</td>\n",
       "      <td>1294</td>\n",
       "    </tr>\n",
       "    <tr>\n",
       "      <td>7</td>\n",
       "      <td>r_3d6yiypezneaw3h</td>\n",
       "      <td>5f33f5c671dbfc2622aecda4</td>\n",
       "      <td>50.0</td>\n",
       "      <td>63.0</td>\n",
       "      <td>26.0</td>\n",
       "      <td>139.0</td>\n",
       "      <td>3.0</td>\n",
       "      <td>22.0</td>\n",
       "      <td>7</td>\n",
       "      <td>7</td>\n",
       "      <td>...</td>\n",
       "      <td>0.0</td>\n",
       "      <td>1.0</td>\n",
       "      <td>1.0</td>\n",
       "      <td>2.0</td>\n",
       "      <td>3.0</td>\n",
       "      <td>3.0</td>\n",
       "      <td>1.0</td>\n",
       "      <td>0.0</td>\n",
       "      <td>38.0</td>\n",
       "      <td>801</td>\n",
       "    </tr>\n",
       "    <tr>\n",
       "      <td>8</td>\n",
       "      <td>r_2eyl9rm7eb4m5xu</td>\n",
       "      <td>5cd062370081a60017789079</td>\n",
       "      <td>50.0</td>\n",
       "      <td>68.0</td>\n",
       "      <td>40.0</td>\n",
       "      <td>158.0</td>\n",
       "      <td>5.0</td>\n",
       "      <td>25.0</td>\n",
       "      <td>5</td>\n",
       "      <td>7</td>\n",
       "      <td>...</td>\n",
       "      <td>0.0</td>\n",
       "      <td>1.0</td>\n",
       "      <td>0.0</td>\n",
       "      <td>4.0</td>\n",
       "      <td>4.0</td>\n",
       "      <td>4.0</td>\n",
       "      <td>1.0</td>\n",
       "      <td>1.0</td>\n",
       "      <td>32.0</td>\n",
       "      <td>665</td>\n",
       "    </tr>\n",
       "    <tr>\n",
       "      <td>9</td>\n",
       "      <td>r_08pona3l1bpbxuj</td>\n",
       "      <td>614fab0f635698115ad9c784</td>\n",
       "      <td>47.0</td>\n",
       "      <td>66.0</td>\n",
       "      <td>35.0</td>\n",
       "      <td>148.0</td>\n",
       "      <td>5.0</td>\n",
       "      <td>30.0</td>\n",
       "      <td>7</td>\n",
       "      <td>5</td>\n",
       "      <td>...</td>\n",
       "      <td>0.0</td>\n",
       "      <td>1.0</td>\n",
       "      <td>1.0</td>\n",
       "      <td>4.0</td>\n",
       "      <td>3.0</td>\n",
       "      <td>4.0</td>\n",
       "      <td>1.0</td>\n",
       "      <td>1.0</td>\n",
       "      <td>40.0</td>\n",
       "      <td>963</td>\n",
       "    </tr>\n",
       "  </tbody>\n",
       "</table>\n",
       "<p>5 rows × 41 columns</p>\n",
       "</div>"
      ],
      "text/plain": [
       "          ResponseId                        id   cpq  mdpq  wnpq  \\\n",
       "4  r_1m6w3ebrevd0aq0  582c83a0bbb67e0001e49ec1  50.0  57.0  30.0   \n",
       "6  r_v1j9fhzvmtlwld7  60f838095603e27ca51820a7  50.0  68.0  38.0   \n",
       "7  r_3d6yiypezneaw3h  5f33f5c671dbfc2622aecda4  50.0  63.0  26.0   \n",
       "8  r_2eyl9rm7eb4m5xu  5cd062370081a60017789079  50.0  68.0  40.0   \n",
       "9  r_08pona3l1bpbxuj  614fab0f635698115ad9c784  47.0  66.0  35.0   \n",
       "\n",
       "   all_proficiency  hardware  software  imm_sum  delay_sum  ...  hispanic  \\\n",
       "4            137.0       3.0      19.0        6          5  ...       0.0   \n",
       "6            156.0       3.0      30.0        8          7  ...       0.0   \n",
       "7            139.0       3.0      22.0        7          7  ...       0.0   \n",
       "8            158.0       5.0      25.0        5          7  ...       0.0   \n",
       "9            148.0       5.0      30.0        7          5  ...       0.0   \n",
       "\n",
       "   race  couple  shealth  hearing  vision  alcohol  effort  adopt_age  \\\n",
       "4   1.0     0.0      4.0      4.0     4.0      1.0     1.0       45.0   \n",
       "6   1.0     1.0      3.0      3.0     3.0      1.0     1.0       40.0   \n",
       "7   1.0     1.0      2.0      3.0     3.0      1.0     0.0       38.0   \n",
       "8   1.0     0.0      4.0      4.0     4.0      1.0     1.0       32.0   \n",
       "9   1.0     1.0      4.0      3.0     4.0      1.0     1.0       40.0   \n",
       "\n",
       "   duration  \n",
       "4      1537  \n",
       "6      1294  \n",
       "7       801  \n",
       "8       665  \n",
       "9       963  \n",
       "\n",
       "[5 rows x 41 columns]"
      ]
     },
     "execution_count": 31,
     "metadata": {},
     "output_type": "execute_result"
    }
   ],
   "source": [
    "df2.head()"
   ]
  },
  {
   "cell_type": "code",
   "execution_count": 32,
   "metadata": {},
   "outputs": [
    {
     "data": {
      "text/plain": [
       "<matplotlib.axes._subplots.AxesSubplot at 0x7fb46429ae90>"
      ]
     },
     "execution_count": 32,
     "metadata": {},
     "output_type": "execute_result"
    },
    {
     "data": {
      "image/png": "[encoded data removed]",
      "text/plain": [
       "<Figure size 432x288 with 1 Axes>"
      ]
     },
     "metadata": {
      "needs_background": "light"
     },
     "output_type": "display_data"
    }
   ],
   "source": [
    "df2.plot(x='software', y='visual', style='o')\n"
   ]
  },
  {
   "cell_type": "code",
   "execution_count": 32,
   "metadata": {},
   "outputs": [
    {
     "data": {
      "text/plain": [
       "<matplotlib.axes._subplots.AxesSubplot at 0x7fd2dc25d6d0>"
      ]
     },
     "execution_count": 32,
     "metadata": {},
     "output_type": "execute_result"
    },
    {
     "data": {
      "image/png": "[encoded data removed]",
      "text/plain": [
       "<Figure size 432x288 with 1 Axes>"
      ]
     },
     "metadata": {
      "needs_background": "light"
     },
     "output_type": "display_data"
    }
   ],
   "source": [
    "df2.plot(x='software', y='imm_sum', style='o')\n",
    "\n"
   ]
  },
  {
   "cell_type": "code",
   "execution_count": 33,
   "metadata": {},
   "outputs": [
    {
     "data": {
      "text/plain": [
       "<matplotlib.axes._subplots.AxesSubplot at 0x7fd2dc35d390>"
      ]
     },
     "execution_count": 33,
     "metadata": {},
     "output_type": "execute_result"
    },
    {
     "data": {
      "image/png": "[encoded data removed]",
      "text/plain": [
       "<Figure size 432x288 with 1 Axes>"
      ]
     },
     "metadata": {
      "needs_background": "light"
     },
     "output_type": "display_data"
    }
   ],
   "source": [
    "df2.plot(x='software', y='age', style='o')\n"
   ]
  },
  {
   "cell_type": "code",
   "execution_count": 34,
   "metadata": {},
   "outputs": [
    {
     "data": {
      "text/plain": [
       "<matplotlib.axes._subplots.AxesSubplot at 0x7fd2dc1ce890>"
      ]
     },
     "execution_count": 34,
     "metadata": {},
     "output_type": "execute_result"
    },
    {
     "data": {
      "image/png": "[encoded data removed]",
      "text/plain": [
       "<Figure size 432x288 with 1 Axes>"
      ]
     },
     "metadata": {
      "needs_background": "light"
     },
     "output_type": "display_data"
    }
   ],
   "source": [
    "df2.plot(x='software', y='inheritance_1', style='o')\n",
    "\n"
   ]
  },
  {
   "cell_type": "code",
   "execution_count": 35,
   "metadata": {},
   "outputs": [
    {
     "data": {
      "text/plain": [
       "<matplotlib.axes._subplots.AxesSubplot at 0x7fd2dc558050>"
      ]
     },
     "execution_count": 35,
     "metadata": {},
     "output_type": "execute_result"
    },
    {
     "data": {
      "image/png": "[encoded data removed]",
      "text/plain": [
       "<Figure size 432x288 with 1 Axes>"
      ]
     },
     "metadata": {
      "needs_background": "light"
     },
     "output_type": "display_data"
    }
   ],
   "source": [
    "df2.plot(x='software', y='adopt_age', style='o')\n",
    "\n"
   ]
  },
  {
   "cell_type": "code",
   "execution_count": 36,
   "metadata": {},
   "outputs": [
    {
     "data": {
      "text/plain": [
       "<matplotlib.axes._subplots.AxesSubplot at 0x7fd2dc852510>"
      ]
     },
     "execution_count": 36,
     "metadata": {},
     "output_type": "execute_result"
    },
    {
     "data": {
      "image/png": "[encoded data removed]",
      "text/plain": [
       "<Figure size 432x288 with 1 Axes>"
      ]
     },
     "metadata": {
      "needs_background": "light"
     },
     "output_type": "display_data"
    }
   ],
   "source": [
    "df2.plot(x='software', y='useful', style='o')\n",
    "\n"
   ]
  },
  {
   "cell_type": "code",
   "execution_count": 37,
   "metadata": {},
   "outputs": [
    {
     "data": {
      "text/plain": [
       "<matplotlib.axes._subplots.AxesSubplot at 0x7fd2dc143850>"
      ]
     },
     "execution_count": 37,
     "metadata": {},
     "output_type": "execute_result"
    },
    {
     "data": {
      "image/png": "[encoded data removed]",
      "text/plain": [
       "<Figure size 432x288 with 1 Axes>"
      ]
     },
     "metadata": {
      "needs_background": "light"
     },
     "output_type": "display_data"
    }
   ],
   "source": [
    "df2.plot(x='software', y='limitations', style='o')\n",
    "\n"
   ]
  },
  {
   "cell_type": "code",
   "execution_count": 38,
   "metadata": {},
   "outputs": [
    {
     "data": {
      "text/plain": [
       "<matplotlib.axes._subplots.AxesSubplot at 0x7fd2dca39950>"
      ]
     },
     "execution_count": 38,
     "metadata": {},
     "output_type": "execute_result"
    },
    {
     "data": {
      "image/png": "[encoded data removed]",
      "text/plain": [
       "<Figure size 432x288 with 1 Axes>"
      ]
     },
     "metadata": {
      "needs_background": "light"
     },
     "output_type": "display_data"
    }
   ],
   "source": [
    "df2.plot(x='software', y='mastery', style='o')"
   ]
  },
  {
   "cell_type": "code",
   "execution_count": 39,
   "metadata": {},
   "outputs": [
    {
     "data": {
      "text/plain": [
       "<matplotlib.axes._subplots.AxesSubplot at 0x7fd2dcb37f90>"
      ]
     },
     "execution_count": 39,
     "metadata": {},
     "output_type": "execute_result"
    },
    {
     "data": {
      "image/png": "[encoded data removed]",
      "text/plain": [
       "<Figure size 432x288 with 1 Axes>"
      ]
     },
     "metadata": {
      "needs_background": "light"
     },
     "output_type": "display_data"
    }
   ],
   "source": [
    "df2.plot(x='software', y='constraints', style='o')\n",
    "\n"
   ]
  },
  {
   "cell_type": "code",
   "execution_count": 40,
   "metadata": {},
   "outputs": [
    {
     "data": {
      "text/plain": [
       "<matplotlib.axes._subplots.AxesSubplot at 0x7fd2dcc34c90>"
      ]
     },
     "execution_count": 40,
     "metadata": {},
     "output_type": "execute_result"
    },
    {
     "data": {
      "image/png": "[encoded data removed]",
      "text/plain": [
       "<Figure size 432x288 with 1 Axes>"
      ]
     },
     "metadata": {
      "needs_background": "light"
     },
     "output_type": "display_data"
    }
   ],
   "source": [
    "df2.plot(x='software', y='education', style='o')\n",
    "\n"
   ]
  },
  {
   "cell_type": "code",
   "execution_count": 41,
   "metadata": {},
   "outputs": [
    {
     "data": {
      "text/plain": [
       "<matplotlib.axes._subplots.AxesSubplot at 0x7fd2dccee8d0>"
      ]
     },
     "execution_count": 41,
     "metadata": {},
     "output_type": "execute_result"
    },
    {
     "data": {
      "image/png": "[encoded data removed]",
      "text/plain": [
       "<Figure size 432x288 with 1 Axes>"
      ]
     },
     "metadata": {
      "needs_background": "light"
     },
     "output_type": "display_data"
    }
   ],
   "source": [
    "df2.plot(x='software', y='hardware', style='o')\n",
    "\n"
   ]
  },
  {
   "cell_type": "code",
   "execution_count": 42,
   "metadata": {},
   "outputs": [
    {
     "data": {
      "text/plain": [
       "<matplotlib.axes._subplots.AxesSubplot at 0x7fd2dc143dd0>"
      ]
     },
     "execution_count": 42,
     "metadata": {},
     "output_type": "execute_result"
    },
    {
     "data": {
      "image/png": "[encoded data removed]",
      "text/plain": [
       "<Figure size 432x288 with 1 Axes>"
      ]
     },
     "metadata": {
      "needs_background": "light"
     },
     "output_type": "display_data"
    }
   ],
   "source": [
    "df2['software'].hist()"
   ]
  },
  {
   "cell_type": "code",
   "execution_count": 43,
   "metadata": {},
   "outputs": [
    {
     "data": {
      "text/plain": [
       "<matplotlib.axes._subplots.AxesSubplot at 0x7fd2dcf24b10>"
      ]
     },
     "execution_count": 43,
     "metadata": {},
     "output_type": "execute_result"
    },
    {
     "data": {
      "image/png": "[encoded data removed]",
      "text/plain": [
       "<Figure size 432x288 with 1 Axes>"
      ]
     },
     "metadata": {
      "needs_background": "light"
     },
     "output_type": "display_data"
    }
   ],
   "source": [
    "df2['cpq'].hist()"
   ]
  },
  {
   "cell_type": "code",
   "execution_count": 44,
   "metadata": {},
   "outputs": [
    {
     "data": {
      "text/plain": [
       "<matplotlib.axes._subplots.AxesSubplot at 0x7fd2dce3b8d0>"
      ]
     },
     "execution_count": 44,
     "metadata": {},
     "output_type": "execute_result"
    },
    {
     "data": {
      "image/png": "[encoded data removed]",
      "text/plain": [
       "<Figure size 432x288 with 1 Axes>"
      ]
     },
     "metadata": {
      "needs_background": "light"
     },
     "output_type": "display_data"
    }
   ],
   "source": [
    "df2['wnpq'].hist()"
   ]
  },
  {
   "cell_type": "code",
   "execution_count": 45,
   "metadata": {},
   "outputs": [
    {
     "data": {
      "text/plain": [
       "<matplotlib.axes._subplots.AxesSubplot at 0x7fd2dd243110>"
      ]
     },
     "execution_count": 45,
     "metadata": {},
     "output_type": "execute_result"
    },
    {
     "data": {
      "image/png": "[encoded data removed]",
      "text/plain": [
       "<Figure size 432x288 with 1 Axes>"
      ]
     },
     "metadata": {
      "needs_background": "light"
     },
     "output_type": "display_data"
    }
   ],
   "source": [
    "df2['inheritance_1'].hist()"
   ]
  },
  {
   "cell_type": "code",
   "execution_count": 46,
   "metadata": {},
   "outputs": [
    {
     "data": {
      "text/plain": [
       "<matplotlib.axes._subplots.AxesSubplot at 0x7fd2dd432390>"
      ]
     },
     "execution_count": 46,
     "metadata": {},
     "output_type": "execute_result"
    },
    {
     "data": {
      "image/png": "[encoded data removed]",
      "text/plain": [
       "<Figure size 432x288 with 1 Axes>"
      ]
     },
     "metadata": {
      "needs_background": "light"
     },
     "output_type": "display_data"
    }
   ],
   "source": [
    "df2['mastery'].hist()"
   ]
  },
  {
   "cell_type": "code",
   "execution_count": 47,
   "metadata": {},
   "outputs": [
    {
     "data": {
      "text/plain": [
       "<matplotlib.axes._subplots.AxesSubplot at 0x7fd2dd50ed90>"
      ]
     },
     "execution_count": 47,
     "metadata": {},
     "output_type": "execute_result"
    },
    {
     "data": {
      "image/png": "[encoded data removed]",
      "text/plain": [
       "<Figure size 432x288 with 1 Axes>"
      ]
     },
     "metadata": {
      "needs_background": "light"
     },
     "output_type": "display_data"
    }
   ],
   "source": [
    "df2['useful'].hist()"
   ]
  }
 ],
 "metadata": {
  "kernelspec": {
   "display_name": "Python 3",
   "language": "python",
   "name": "python3"
  },
  "language_info": {
   "codemirror_mode": {
    "name": "ipython",
    "version": 3
   },
   "file_extension": ".py",
   "mimetype": "text/x-python",
   "name": "python",
   "nbconvert_exporter": "python",
   "pygments_lexer": "ipython3",
   "version": "3.7.4"
  }
 },
 "nbformat": 4,
 "nbformat_minor": 2
}
